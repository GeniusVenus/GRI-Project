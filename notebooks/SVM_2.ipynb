{
 "cells": [
  {
   "cell_type": "code",
   "execution_count": 1,
   "id": "initial_id",
   "metadata": {
    "collapsed": true,
    "ExecuteTime": {
     "end_time": "2023-12-19T11:43:08.549279100Z",
     "start_time": "2023-12-19T11:42:57.333855800Z"
    }
   },
   "outputs": [
    {
     "name": "stdout",
     "output_type": "stream",
     "text": [
      "WARNING:tensorflow:From C:\\Users\\Admin\\.conda\\envs\\torch\\lib\\site-packages\\keras\\src\\losses.py:2976: The name tf.losses.sparse_softmax_cross_entropy is deprecated. Please use tf.compat.v1.losses.sparse_softmax_cross_entropy instead.\n"
     ]
    }
   ],
   "source": [
    "import os\n",
    "import cv2\n",
    "import numpy as np\n",
    "import matplotlib.pyplot as plt\n",
    "import time\n",
    "from sklearn.ensemble import RandomForestClassifier\n",
    "from sklearn import metrics\n",
    "import pickle\n",
    "import pandas as pd\n",
    "from keras.applications.vgg16 import VGG16\n",
    "from keras.models import Model"
   ]
  },
  {
   "cell_type": "code",
   "execution_count": 2,
   "outputs": [
    {
     "name": "stdout",
     "output_type": "stream",
     "text": [
      "(96, 256, 256)\n",
      "(96, 256, 256, 3)\n"
     ]
    }
   ],
   "source": [
    "image_directory = \"../dataset/256_patches_splitted/train/images\"\n",
    "mask_directory = \"../dataset/256_patches_splitted/train/masks\"\n",
    "image_dataset = []\n",
    "for directory_path in os.listdir(image_directory):\n",
    "    image = cv2.imread(image_directory + \"/\" + directory_path)\n",
    "    image = cv2.cvtColor(image, cv2.COLOR_BGR2RGB)\n",
    "    image_dataset.append(image)\n",
    "image_dataset = np.array(image_dataset)\n",
    "mask_dataset = []\n",
    "for directory_path in os.listdir(mask_directory):\n",
    "    mask = cv2.imread(mask_directory + \"/\" + directory_path)\n",
    "    mask = cv2.cvtColor(mask, cv2.COLOR_BGR2GRAY)\n",
    "    mask_dataset.append(mask)\n",
    "mask_dataset = np.array(mask_dataset)\n",
    "print(mask_dataset.shape)\n",
    "print(image_dataset.shape)"
   ],
   "metadata": {
    "collapsed": false,
    "ExecuteTime": {
     "end_time": "2023-12-19T11:43:09.542305Z",
     "start_time": "2023-12-19T11:43:08.550278600Z"
    }
   },
   "id": "a28aa4ae49c64e6"
  },
  {
   "cell_type": "code",
   "execution_count": 3,
   "outputs": [
    {
     "name": "stdout",
     "output_type": "stream",
     "text": [
      "(36, 256, 256)\n",
      "(36, 256, 256, 3)\n"
     ]
    }
   ],
   "source": [
    "image_directory2 = \"../dataset/256_patches_splitted/val/images\"\n",
    "mask_directory2 = \"../dataset/256_patches_splitted/val/masks\"\n",
    "image_dataset2 = []\n",
    "for directory_path in os.listdir(image_directory2):\n",
    "    image = cv2.imread(image_directory2 + \"/\" + directory_path)\n",
    "    image = cv2.cvtColor(image, cv2.COLOR_BGR2RGB)\n",
    "    image_dataset2.append(image)\n",
    "image_dataset2 = np.array(image_dataset2)\n",
    "mask_dataset2 = []\n",
    "for directory_path in os.listdir(mask_directory2):\n",
    "    mask = cv2.imread(mask_directory2 + \"/\" + directory_path)\n",
    "    mask = cv2.cvtColor(mask, cv2.COLOR_BGR2GRAY)\n",
    "    mask_dataset2.append(mask)\n",
    "mask_dataset2 = np.array(mask_dataset2)\n",
    "print(mask_dataset2.shape)\n",
    "print(image_dataset2.shape)"
   ],
   "metadata": {
    "collapsed": false,
    "ExecuteTime": {
     "end_time": "2023-12-19T11:43:09.898737300Z",
     "start_time": "2023-12-19T11:43:09.546806800Z"
    }
   },
   "id": "89fa5b294837ff32"
  },
  {
   "cell_type": "code",
   "execution_count": 4,
   "outputs": [
    {
     "name": "stdout",
     "output_type": "stream",
     "text": [
      "(24, 256, 256)\n",
      "(24, 256, 256, 3)\n"
     ]
    }
   ],
   "source": [
    "image_directory3 = \"../dataset/256_patches_splitted/test/images\"\n",
    "mask_directory3 = \"../dataset/256_patches_splitted/test/masks\"\n",
    "image_dataset3 = []\n",
    "for directory_path in os.listdir(image_directory3):\n",
    "    image = cv2.imread(image_directory3 + \"/\" + directory_path)\n",
    "    image = cv2.cvtColor(image, cv2.COLOR_BGR2RGB)\n",
    "    image_dataset3.append(image)\n",
    "image_dataset3 = np.array(image_dataset3)\n",
    "mask_dataset3 = []\n",
    "for directory_path in os.listdir(mask_directory3):\n",
    "    mask = cv2.imread(mask_directory3 + \"/\" + directory_path)\n",
    "    mask = cv2.cvtColor(mask, cv2.COLOR_BGR2GRAY)\n",
    "    mask_dataset3.append(mask)\n",
    "mask_dataset3 = np.array(mask_dataset3)\n",
    "print(mask_dataset3.shape)\n",
    "print(image_dataset3.shape)"
   ],
   "metadata": {
    "collapsed": false,
    "ExecuteTime": {
     "end_time": "2023-12-19T11:43:09.989937100Z",
     "start_time": "2023-12-19T11:43:09.898737300Z"
    }
   },
   "id": "b9cb542f658591ca"
  },
  {
   "cell_type": "code",
   "execution_count": 5,
   "outputs": [
    {
     "name": "stdout",
     "output_type": "stream",
     "text": [
      "WARNING:tensorflow:From C:\\Users\\Admin\\.conda\\envs\\torch\\lib\\site-packages\\keras\\src\\backend.py:1398: The name tf.executing_eagerly_outside_functions is deprecated. Please use tf.compat.v1.executing_eagerly_outside_functions instead.\n",
      "WARNING:tensorflow:From C:\\Users\\Admin\\.conda\\envs\\torch\\lib\\site-packages\\keras\\src\\layers\\pooling\\max_pooling2d.py:161: The name tf.nn.max_pool is deprecated. Please use tf.nn.max_pool2d instead.\n",
      "Model: \"vgg16\"\n",
      "_________________________________________________________________\n",
      " Layer (type)                Output Shape              Param #   \n",
      "=================================================================\n",
      " input_1 (InputLayer)        [(None, 256, 256, 3)]     0         \n",
      "                                                                 \n",
      " block1_conv1 (Conv2D)       (None, 256, 256, 64)      1792      \n",
      "                                                                 \n",
      " block1_conv2 (Conv2D)       (None, 256, 256, 64)      36928     \n",
      "                                                                 \n",
      " block1_pool (MaxPooling2D)  (None, 128, 128, 64)      0         \n",
      "                                                                 \n",
      " block2_conv1 (Conv2D)       (None, 128, 128, 128)     73856     \n",
      "                                                                 \n",
      " block2_conv2 (Conv2D)       (None, 128, 128, 128)     147584    \n",
      "                                                                 \n",
      " block2_pool (MaxPooling2D)  (None, 64, 64, 128)       0         \n",
      "                                                                 \n",
      " block3_conv1 (Conv2D)       (None, 64, 64, 256)       295168    \n",
      "                                                                 \n",
      " block3_conv2 (Conv2D)       (None, 64, 64, 256)       590080    \n",
      "                                                                 \n",
      " block3_conv3 (Conv2D)       (None, 64, 64, 256)       590080    \n",
      "                                                                 \n",
      " block3_pool (MaxPooling2D)  (None, 32, 32, 256)       0         \n",
      "                                                                 \n",
      " block4_conv1 (Conv2D)       (None, 32, 32, 512)       1180160   \n",
      "                                                                 \n",
      " block4_conv2 (Conv2D)       (None, 32, 32, 512)       2359808   \n",
      "                                                                 \n",
      " block4_conv3 (Conv2D)       (None, 32, 32, 512)       2359808   \n",
      "                                                                 \n",
      " block4_pool (MaxPooling2D)  (None, 16, 16, 512)       0         \n",
      "                                                                 \n",
      " block5_conv1 (Conv2D)       (None, 16, 16, 512)       2359808   \n",
      "                                                                 \n",
      " block5_conv2 (Conv2D)       (None, 16, 16, 512)       2359808   \n",
      "                                                                 \n",
      " block5_conv3 (Conv2D)       (None, 16, 16, 512)       2359808   \n",
      "                                                                 \n",
      " block5_pool (MaxPooling2D)  (None, 8, 8, 512)         0         \n",
      "                                                                 \n",
      "=================================================================\n",
      "Total params: 14714688 (56.13 MB)\n",
      "Trainable params: 0 (0.00 Byte)\n",
      "Non-trainable params: 14714688 (56.13 MB)\n",
      "_________________________________________________________________\n"
     ]
    }
   ],
   "source": [
    "VGG_model = VGG16(weights='imagenet', include_top=False, input_shape=(256, 256, 3))\n",
    "for layer in VGG_model.layers:\n",
    "    layer.trainable = False\n",
    "VGG_model.summary()\n",
    "new_model = Model(inputs=VGG_model.input, outputs=VGG_model.get_layer('block1_conv2').output)"
   ],
   "metadata": {
    "collapsed": false,
    "ExecuteTime": {
     "end_time": "2023-12-19T11:43:10.643666600Z",
     "start_time": "2023-12-19T11:43:09.992242600Z"
    }
   },
   "id": "ae082e082eb50a3f"
  },
  {
   "cell_type": "code",
   "execution_count": 6,
   "outputs": [
    {
     "name": "stdout",
     "output_type": "stream",
     "text": [
      "3/3 [==============================] - 2s 446ms/step\n",
      "(96, 256, 256, 64)\n",
      "(6291456, 64)\n"
     ]
    }
   ],
   "source": [
    "feature_extractor = new_model.predict(image_dataset)\n",
    "print(feature_extractor.shape)\n",
    "features = feature_extractor.reshape(-1, feature_extractor.shape[3])\n",
    "print(features.shape)"
   ],
   "metadata": {
    "collapsed": false,
    "ExecuteTime": {
     "end_time": "2023-12-19T11:43:13.209641600Z",
     "start_time": "2023-12-19T11:43:10.646311500Z"
    }
   },
   "id": "1875f0e414f2b05a"
  },
  {
   "cell_type": "code",
   "execution_count": 7,
   "outputs": [
    {
     "name": "stdout",
     "output_type": "stream",
     "text": [
      "2/2 [==============================] - 1s 73ms/step\n",
      "(36, 256, 256, 64)\n",
      "(2359296, 64)\n"
     ]
    }
   ],
   "source": [
    "feature_extractor2 = new_model.predict(image_dataset2)\n",
    "print(feature_extractor2.shape)\n",
    "features2 = feature_extractor2.reshape(-1, feature_extractor2.shape[3])\n",
    "print(features2.shape)"
   ],
   "metadata": {
    "collapsed": false,
    "ExecuteTime": {
     "end_time": "2023-12-19T11:43:14.229109400Z",
     "start_time": "2023-12-19T11:43:13.212641900Z"
    }
   },
   "id": "f37b1e35bbb21f98"
  },
  {
   "cell_type": "code",
   "execution_count": 8,
   "outputs": [
    {
     "name": "stdout",
     "output_type": "stream",
     "text": [
      "1/1 [==============================] - 0s 489ms/step\n",
      "(24, 256, 256, 64)\n",
      "(1572864, 64)\n"
     ]
    }
   ],
   "source": [
    "feature_extractor3 = new_model.predict(image_dataset3)\n",
    "print(feature_extractor3.shape)\n",
    "features3 = feature_extractor3.reshape(-1, feature_extractor3.shape[3])\n",
    "print(features3.shape)"
   ],
   "metadata": {
    "collapsed": false,
    "ExecuteTime": {
     "end_time": "2023-12-19T11:43:15.037949400Z",
     "start_time": "2023-12-19T11:43:14.230110300Z"
    }
   },
   "id": "45829f0f5a136c0a"
  },
  {
   "cell_type": "code",
   "execution_count": 9,
   "outputs": [
    {
     "name": "stdout",
     "output_type": "stream",
     "text": [
      "[1 5 3 6 4 2]\n",
      "Label\n",
      "1    1160005\n",
      "5     687626\n",
      "3     677589\n",
      "4     603158\n",
      "6     102342\n",
      "2      43094\n",
      "Name: count, dtype: int64\n"
     ]
    }
   ],
   "source": [
    "X_train = features\n",
    "Y_train = mask_dataset.reshape(-1)\n",
    "dataset = pd.DataFrame(X_train)\n",
    "dataset[\"Label\"] = Y_train\n",
    "dataset = dataset[dataset[\"Label\"] != 0]\n",
    "X_train = dataset.drop(labels=[\"Label\"], axis=1)\n",
    "Y_train = dataset['Label']\n",
    "print(dataset[\"Label\"].unique())\n",
    "print(dataset[\"Label\"].value_counts())"
   ],
   "metadata": {
    "collapsed": false,
    "ExecuteTime": {
     "end_time": "2023-12-19T11:43:20.281270900Z",
     "start_time": "2023-12-19T11:43:15.051549300Z"
    }
   },
   "id": "d51527139ea18a00"
  },
  {
   "cell_type": "code",
   "execution_count": 10,
   "outputs": [
    {
     "name": "stdout",
     "output_type": "stream",
     "text": [
      "[1 5 3 4 6 2]\n",
      "Label\n",
      "1    445730\n",
      "5    280751\n",
      "4    259676\n",
      "3    249826\n",
      "6     33278\n",
      "2      6589\n",
      "Name: count, dtype: int64\n"
     ]
    }
   ],
   "source": [
    "X_val = features2\n",
    "Y_val = mask_dataset2.reshape(-1)\n",
    "dataset2 = pd.DataFrame(X_val)\n",
    "dataset2[\"Label\"] = Y_val\n",
    "dataset2 = dataset2[dataset2[\"Label\"] != 0]\n",
    "X_val = dataset2.drop(labels=[\"Label\"], axis=1)\n",
    "Y_val = dataset2['Label']\n",
    "print(dataset2[\"Label\"].unique())\n",
    "print(dataset2[\"Label\"].value_counts())"
   ],
   "metadata": {
    "collapsed": false,
    "ExecuteTime": {
     "end_time": "2023-12-19T11:43:21.957781400Z",
     "start_time": "2023-12-19T11:43:20.297727Z"
    }
   },
   "id": "a219fbb011b6cf81"
  },
  {
   "cell_type": "code",
   "execution_count": 11,
   "outputs": [
    {
     "name": "stdout",
     "output_type": "stream",
     "text": [
      "[1 5 3 4 6 2]\n",
      "Label\n",
      "1    310782\n",
      "5    182122\n",
      "4    171655\n",
      "3    169015\n",
      "6     54442\n",
      "2      3734\n",
      "Name: count, dtype: int64\n"
     ]
    }
   ],
   "source": [
    "X_test = features3\n",
    "Y_test = mask_dataset3.reshape(-1)\n",
    "dataset3 = pd.DataFrame(X_test)\n",
    "dataset3[\"Label\"] = Y_test\n",
    "dataset3 = dataset3[dataset3[\"Label\"] != 0]\n",
    "X_test = dataset3.drop(labels=[\"Label\"], axis=1)\n",
    "Y_test = dataset3['Label']\n",
    "print(dataset3[\"Label\"].unique())\n",
    "print(dataset3[\"Label\"].value_counts())"
   ],
   "metadata": {
    "collapsed": false,
    "ExecuteTime": {
     "end_time": "2023-12-19T11:43:26.948447700Z",
     "start_time": "2023-12-19T11:43:21.948655200Z"
    }
   },
   "id": "9f9bd181057431cb"
  },
  {
   "cell_type": "code",
   "execution_count": 12,
   "outputs": [],
   "source": [
    "# from sklearn.model_selection import GridSearchCV\n",
    "# \n",
    "# param_grid = {\n",
    "#     'n_estimators': [10, 12, 14],\n",
    "#     'max_features': ['auto', 'sqrt', 'log2'],\n",
    "#     'max_depth': [4, 5, 6],\n",
    "#     'criterion': ['gini', 'entropy']\n",
    "# }\n",
    "# CV = GridSearchCV(estimator=RandomForestClassifier(random_state=42), param_grid=param_grid)\n",
    "# CV.fit(X_train, Y_train)\n",
    "# print(CV.best_params_)"
   ],
   "metadata": {
    "collapsed": false,
    "ExecuteTime": {
     "start_time": "2023-12-19T11:43:27.064157500Z"
    }
   },
   "id": "cc30eac004a0adc4"
  },
  {
   "cell_type": "code",
   "execution_count": null,
   "outputs": [
    {
     "name": "stdout",
     "output_type": "stream",
     "text": [
      "Start training...\n"
     ]
    }
   ],
   "source": [
    "start = time.time()\n",
    "# model = RandomForestClassifier(n_estimators=CV.best_params_.n_estimators,\n",
    "#                                max_features=CV.best_params_.max_features,\n",
    "#                                max_depth=CV.best_params_.max_depth,\n",
    "#                                criterion=CV.best_params_.criterion,\n",
    "#                                random_state=42)\n",
    "model = RandomForestClassifier(n_estimators=10, max_depth=12, random_state=42)\n",
    "print(\"Start training...\")\n",
    "model.fit(X_train, Y_train)\n",
    "end = time.time()\n",
    "print(\"Time execution : \", end - start)\n",
    "pickle.dump(model, open('../models/SVM_2', 'wb'))\n",
    "loaded_model = pickle.load(open('../models/SVM_2', 'rb'))"
   ],
   "metadata": {
    "collapsed": false,
    "is_executing": true,
    "ExecuteTime": {
     "start_time": "2023-12-19T11:43:27.274105300Z"
    }
   },
   "id": "498024cc307f0abd"
  },
  {
   "cell_type": "code",
   "execution_count": null,
   "outputs": [],
   "source": [
    "from sklearn.metrics import mean_absolute_error\n",
    "\n",
    "pred_val = loaded_model.predict(X_val)\n",
    "pred_train = loaded_model.predict(X_train)\n",
    "val_accuracy = metrics.accuracy_score(Y_val, pred_val)\n",
    "train_accuracy = metrics.accuracy_score(Y_train, pred_train)\n",
    "print(\"Validation accuracy=\", val_accuracy)\n",
    "print(\"Train accuracy =\", train_accuracy)\n",
    "val_error = mean_absolute_error(pred_val, Y_val)\n",
    "train_error = mean_absolute_error(pred_train, Y_train)\n",
    "print(\"Validation error=\", val_error)\n",
    "print(\"Train error =\", train_error)"
   ],
   "metadata": {
    "collapsed": false,
    "is_executing": true
   },
   "id": "7e17f361d70a87c"
  },
  {
   "cell_type": "code",
   "execution_count": null,
   "outputs": [],
   "source": [
    "import seaborn as sns\n",
    "\n",
    "# Make predictions on the test set\n",
    "prediction_test = loaded_model.predict(X_test)\n",
    "# Calculate and print the evaluations\n",
    "balanced_accuracy = metrics.balanced_accuracy_score(Y_test, prediction_test)\n",
    "accuracy = metrics.accuracy_score(Y_test, prediction_test)\n",
    "iou = metrics.jaccard_score(Y_test, prediction_test, average='weighted')\n",
    "print(\"Balanced accuracy =\", balanced_accuracy)\n",
    "print(\"Accuracy =\", accuracy)\n",
    "print(\"Mean IOU =\", iou)\n",
    "sns.heatmap(metrics.confusion_matrix(Y_test, prediction_test, labels=[1, 2, 3, 4, 5, 6]), annot=True)\n",
    "print(metrics.classification_report(Y_test, prediction_test, labels=[1, 2, 3, 4, 5, 6]))"
   ],
   "metadata": {
    "collapsed": false,
    "is_executing": true
   },
   "id": "ca56799d96fcbdd4"
  },
  {
   "cell_type": "code",
   "execution_count": null,
   "outputs": [],
   "source": [
    " image_directory3 = \"../dataset/256_patches_splitted/test/images\"\n",
    "for subdir in os.listdir(image_directory3):\n",
    "    print(\"Predict image : \" + subdir)\n",
    "    img = cv2.imread(image_directory3 + \"/\" + subdir)\n",
    "    img = cv2.cvtColor(img, cv2.COLOR_BGR2RGB)\n",
    "    img = np.expand_dims(img, axis=0)\n",
    "    test = new_model.predict(img)\n",
    "    test = test.reshape(-1, test.shape[3])\n",
    "    print(test.shape)\n",
    "    result = loaded_model.predict(test)\n",
    "    segmented_result = result.reshape((256, 256, 1))\n",
    "    cv2.imwrite('../results/SVM_2/' + subdir, segmented_result)"
   ],
   "metadata": {
    "collapsed": false,
    "is_executing": true
   },
   "id": "a3c83b2ba04daffd"
  },
  {
   "cell_type": "code",
   "execution_count": null,
   "outputs": [],
   "source": [
    "# test_img = cv2.imread(\"../dataset/256_patches_splitted/train/images/image_patch_15.tif\")\n",
    "# features = feature_extraction(test_img, \"image\")\n",
    "# result = loaded_model.predict(features)\n",
    "# segmented_result = result.reshape((256, 256, 1))\n",
    "# print(\"Here  : \", np.unique(segmented_result))\n",
    "# cv2.imwrite('../results/RF_test_1.tif', segmented_result)\n",
    "color_map = {\n",
    "    0: [0, 0, 0],  # Background (unlabeled - black)\n",
    "    1: [255, 0, 0],  # Class 1 (building - #FF0000)\n",
    "    2: [255, 105, 180],  # Class 2 (water - #FF69B4 )\n",
    "    3: [65, 117, 5],  # Class 3 (tree - #417505)\n",
    "    4: [126, 211, 33],  # Class 4 (grass - #7ED321)\n",
    "    5: [169, 169, 169],  # Class 5 (road - #A9A9A9)\n",
    "    6: [139, 87, 42]  # Class 6 (soil - #8B572A)\n",
    "}\n",
    "image_directory = \"../dataset/256_patches_splitted/test/images\"\n",
    "test_directory = \"../dataset/256_patches_splitted/test/masks\"\n",
    "for subdir in os.listdir(test_directory):\n",
    "    result_dir = \"image\" + subdir[4:]\n",
    "    image = cv2.imread(image_directory + \"/\" + result_dir)\n",
    "    image = cv2.cvtColor(image, cv2.COLOR_BGR2RGB)\n",
    "    mask = cv2.imread(test_directory + \"/\" + subdir)\n",
    "    result = cv2.imread(\"../results/SVM_2/\" + result_dir, 0)\n",
    "    print(np.unique(result))\n",
    "    result = cv2.merge([result, result, result])\n",
    "    rgb_result = np.zeros(result.shape, dtype=np.uint8)\n",
    "    for i in range(0, 7):\n",
    "        rgb_result[np.all(result == [i, i, i], axis=-1)] = color_map[i]\n",
    "        mask[np.all(mask == [i, i, i], axis=-1)] = color_map[i]\n",
    "    plt.subplot(1, 3, 1)\n",
    "    plt.title(\"Image\")\n",
    "    plt.imshow(image)\n",
    "    plt.subplot(1, 3, 2)\n",
    "    plt.title(\"Mask\")\n",
    "    plt.imshow(mask)\n",
    "    plt.subplot(1, 3, 3)\n",
    "    plt.title(\"Segmented image\")\n",
    "    plt.imshow(rgb_result)\n",
    "    plt.show()"
   ],
   "metadata": {
    "collapsed": false,
    "is_executing": true
   },
   "id": "6eb582e5fe26a0aa"
  }
 ],
 "metadata": {
  "kernelspec": {
   "display_name": "Python 3",
   "language": "python",
   "name": "python3"
  },
  "language_info": {
   "codemirror_mode": {
    "name": "ipython",
    "version": 2
   },
   "file_extension": ".py",
   "mimetype": "text/x-python",
   "name": "python",
   "nbconvert_exporter": "python",
   "pygments_lexer": "ipython2",
   "version": "2.7.6"
  }
 },
 "nbformat": 4,
 "nbformat_minor": 5
}
